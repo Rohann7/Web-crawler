{
 "cells": [
  {
   "cell_type": "code",
   "execution_count": 34,
   "metadata": {},
   "outputs": [
    {
     "name": "stdout",
     "output_type": "stream",
     "text": [
      "Enter the word: hello\n",
      "\"Hello definition, (used to express a greeting, answer a telephone, or attract attention.)\n"
     ]
    }
   ],
   "source": [
    "try:\n",
    "    import re\n",
    "    import urllib.request\n",
    "\n",
    "    url =\"https://www.dictionary.com/browse/\"\n",
    "\n",
    "    word = input(\"Enter the word: \")\n",
    "\n",
    "    url = url + word\n",
    "\n",
    "    data = urllib.request.urlopen(url).read()\n",
    "\n",
    "    data1 = data.decode(\"utf-8\")\n",
    "\n",
    "    #print(data1)\n",
    "\n",
    "    m = re.search('<meta name=\"description\" content=', data1)\n",
    "\n",
    "    #print(m)\n",
    "\n",
    "    start = m.end()\n",
    "\n",
    "    end = start + 150\n",
    "\n",
    "    newstr = data1[start:end]\n",
    "\n",
    "    #print(newstr)\n",
    "\n",
    "    m = re.search(\"See more.\", newstr)\n",
    "\n",
    "    end = m.start()-1\n",
    "\n",
    "    defn = newstr[0:end]\n",
    "\n",
    "    print(defn)\n",
    "    \n",
    "except:\n",
    "    print(\"Sorry the word you are looking for is not in the dictionary\")"
   ]
  },
  {
   "cell_type": "code",
   "execution_count": null,
   "metadata": {},
   "outputs": [],
   "source": []
  }
 ],
 "metadata": {
  "kernelspec": {
   "display_name": "Python 3",
   "language": "python",
   "name": "python3"
  },
  "language_info": {
   "codemirror_mode": {
    "name": "ipython",
    "version": 3
   },
   "file_extension": ".py",
   "mimetype": "text/x-python",
   "name": "python",
   "nbconvert_exporter": "python",
   "pygments_lexer": "ipython3",
   "version": "3.7.3"
  }
 },
 "nbformat": 4,
 "nbformat_minor": 2
}
